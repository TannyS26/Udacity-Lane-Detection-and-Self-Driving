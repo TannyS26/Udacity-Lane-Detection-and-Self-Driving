{
 "cells": [
  {
   "cell_type": "code",
   "execution_count": 1,
   "metadata": {},
   "outputs": [],
   "source": [
    "# Thanks to StackOverflow, 'sentdex', 'Frannecklp'\n",
    "# Link - https://stackoverflow.com/questions/12590942/is-there-any-better-way-to-capture-the-screen-than-pil-imagegrab-grab\n",
    "\n",
    "import cv2\n",
    "import numpy as np\n",
    "import win32gui as wgui\n",
    "import win32ui as wui\n",
    "import win32con as wcon\n",
    "import win32api as wapi\n",
    "\n",
    "def grab_frame(region = None):\n",
    "\n",
    "    hwin = wgui.GetDesktopWindow()\n",
    "\n",
    "    # Setting the value and finding the width and height of frame to grab\n",
    "    if region:\n",
    "        left, top, right, bottom = region\n",
    "        width = right - left + 1\n",
    "        height = bottom - top + 1\n",
    "    else:\n",
    "        width = wapi.GetSystemMetrics(wcon.SM_CXVIRTUALSCREEN)\n",
    "        height = wapi.GetSystemMetrics(wcon.SM_CYVIRTUALSCREEN)\n",
    "        left = wapi.GetSystemMetrics(wcon.SM_XVIRTUALSCREEN)\n",
    "        top = wapi.GetSystemMetrics(wcon.SM_YVIRTUALSCREEN)\n",
    "\n",
    "    hwindc = wgui.GetWindowDC(hwin)\n",
    "    srcdc = wui.CreateDCFromHandle(hwindc)\n",
    "    memdc = srcdc.CreateCompatibleDC()\n",
    "    bmp = wui.CreateBitmap()\n",
    "    bmp.CreateCompatibleBitmap(srcdc, width, height)\n",
    "    memdc.SelectObject(bmp)\n",
    "    memdc.BitBlt((0, 0), (width, height), srcdc, (left, top), wcon.SRCCOPY)\n",
    "    \n",
    "    signedIntsArray = bmp.GetBitmapBits(True)\n",
    "    img = np.fromstring(signedIntsArray, dtype='uint8')\n",
    "    img.shape = (height, width, 4)\n",
    "\n",
    "    srcdc.DeleteDC()\n",
    "    memdc.DeleteDC()\n",
    "    wgui.ReleaseDC(hwin, hwindc)\n",
    "    wgui.DeleteObject(bmp.GetHandle())\n",
    "\n",
    "    return cv2.cvtColor(img, cv2.COLOR_BGRA2RGB)"
   ]
  }
 ],
 "metadata": {
  "kernelspec": {
   "display_name": "Python [conda env:.conda-py3-TF2.0] *",
   "language": "python",
   "name": "conda-env-.conda-py3-TF2.0-py"
  },
  "language_info": {
   "codemirror_mode": {
    "name": "ipython",
    "version": 3
   },
   "file_extension": ".py",
   "mimetype": "text/x-python",
   "name": "python",
   "nbconvert_exporter": "python",
   "pygments_lexer": "ipython3",
   "version": "3.7.3"
  }
 },
 "nbformat": 4,
 "nbformat_minor": 2
}
